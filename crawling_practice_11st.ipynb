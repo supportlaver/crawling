{
 "cells": [
  {
   "cell_type": "code",
   "execution_count": 80,
   "id": "48c80942",
   "metadata": {},
   "outputs": [],
   "source": [
    "import requests\n",
    "import openpyxl\n",
    "from bs4 import BeautifulSoup\n",
    "res=requests.get(\"https://www.11st.co.kr/browsing/BestSeller.tmall?method=getBestSellerMain&cornerNo=11\")\n",
    "soup=BeautifulSoup(res.content,'html.parser')"
   ]
  },
  {
   "cell_type": "code",
   "execution_count": 81,
   "id": "f5e73bd4",
   "metadata": {
    "scrolled": false
   },
   "outputs": [
    {
     "name": "stdout",
     "output_type": "stream",
     "text": [
      "1 헤이홈 스마트 홈 카메라 EGG / PRO+ / PRO 39,900 https://www.11st.co.kr/products/4591601916?inpu=&trTypeCd=22&trCtgrNo=895019\n",
      "2 Apple 2022 에어팟프로 2세대 [MQD83KH/A] 312,330 https://www.11st.co.kr/products/4908371110?inpu=&trTypeCd=22&trCtgrNo=895019\n",
      "3 [역대 특.가 72만]LG전자 울트라PC 15UD50Q-GX50K/12세대 i5/램8GB/SSD 256GB 899,840 https://www.11st.co.kr/products/4544216295?inpu=&trTypeCd=22&trCtgrNo=895019\n",
      "4 [삼성][정품/당일출고] 삼성전자 갤럭시 버즈2 SM-R177 블루투스 이어폰 88,970 https://www.11st.co.kr/products/3772951977?inpu=&trTypeCd=22&trCtgrNo=895019\n",
      "5 [혜택가 79만원] 삼성전자 그랑데AI 건조기 17kg DV17T8740BP 이녹스 실버 799,000 https://www.11st.co.kr/products/4147743708?inpu=&trTypeCd=22&trCtgrNo=895019\n",
      "6 PS4 / PS5 갓 오브 워 라그나로크 다운로드 코드 즉시발송 문자 즉시 발송 28,790 https://www.11st.co.kr/products/5167417049?inpu=&trTypeCd=22&trCtgrNo=895019\n",
      "7 [하루특가][갤럭시 A33 자급제 374,550원][다운중복쿠폰] 갤럭시 A33 128GB 자급제 SM 468,180 https://www.11st.co.kr/products/4695995255?inpu=&trTypeCd=22&trCtgrNo=895019\n",
      "8 [삼성][정품/당일출고] 삼성 갤럭시S22 자급제 공기계 SM-S901N 764,000 https://www.11st.co.kr/products/4440322499?inpu=&trTypeCd=22&trCtgrNo=895019\n",
      "9 AirPods(2세대) [MV7N2KH/A] 179,100 https://www.11st.co.kr/products/4498527859?inpu=&trTypeCd=22&trCtgrNo=895019\n",
      "10 삼성전용 C타입 마이크로5핀 C to C 고속충전 케이블 9,400 https://www.11st.co.kr/products/3318403577?inpu=&trTypeCd=22&trCtgrNo=895019\n",
      "11 [최종 21.7만원대]쿠쿠 10인용 IH전기압력밥솥 CRP-CHP1010FD 234,000 https://www.11st.co.kr/products/2693130936?inpu=&trTypeCd=22&trCtgrNo=895019\n",
      "12 [20%중복쿠폰][1+1패키지] 오아 클린이워터D 구강세정기 물치실 스마트 무선 LCD 휴대 76,900 https://www.11st.co.kr/products/3871167181?inpu=&trTypeCd=22&trCtgrNo=895019\n",
      "13 [20%중복쿠폰]오아 클린이소프트 음파 전동 칫솔 15가지모드 IPX8 분당 50000회 잇몸보 39,900 https://www.11st.co.kr/products/2868547239?inpu=&trTypeCd=22&trCtgrNo=895019\n",
      "14 Apple Pencil(2세대) [MU8F2KH/A] 184,900 https://www.11st.co.kr/products/4508075611?inpu=&trTypeCd=22&trCtgrNo=895019\n",
      "15 삼성전자 DDR4 16G PC4-25600 (정품)-MK 49,240 https://www.11st.co.kr/products/4724200483?inpu=&trTypeCd=22&trCtgrNo=895019\n",
      "16 [쿠폰가890,000원]샤오미 10세대 자동 물걸레 살균 로봇청소기 라이드스토 W2 시그니처 1,090,000 https://www.11st.co.kr/products/4438270387?inpu=&trTypeCd=22&trCtgrNo=895019\n",
      "17 [LG전자][LG][공식판매점]LG 싸이킹 POWER 청소기 C40SFHT(대전신세계) 132,720 https://www.11st.co.kr/products/4492227478?inpu=&trTypeCd=22&trCtgrNo=895019\n",
      "18 알파플랜 NB F100A 싱글 대형 모니터암 32인치 34인치 거치대 31,160 https://www.11st.co.kr/products/4165682665?inpu=&trTypeCd=22&trCtgrNo=895019\n",
      "19 Apple 아이폰 14 자급제 128GB - 스타라이트 [MPUR3KH/A] 1,175,000 https://www.11st.co.kr/products/4891923033?inpu=&trTypeCd=22&trCtgrNo=895019\n",
      "20 애플워치SE 2 40mm GPS 스타라이트 알루미늄 스타라이트 스포츠밴드 [MNJP3KH/A] 333,870 https://www.11st.co.kr/products/4909201829?inpu=&trTypeCd=22&trCtgrNo=895019\n",
      "21 [LG전자][LG]LG 스마트 인버터 전자레인지 MW23BD (23L)(대전신세계) 124,580 https://www.11st.co.kr/products/5053579577?inpu=&trTypeCd=22&trCtgrNo=895019\n",
      "22 [LG전자]공식판매점]LG 싸이킹 POWER 청소기 C40SFHT(대전신세계) 132,720 https://www.11st.co.kr/products/4516748739?inpu=&trTypeCd=22&trCtgrNo=895019\n",
      "23 [SK매직] 22년신상런칭 무필터 항균 건조 IPX6등급 완전방수 기능 비데 BID-E16D 127,000 https://www.11st.co.kr/products/4998242226?inpu=&trTypeCd=22&trCtgrNo=895019\n",
      "24 [최종구매가 59,000][파나소닉]구강세정기/EW1211A/제트수류 + 노즐 2개 증정 79,000 https://www.11st.co.kr/products/1118109254?inpu=&trTypeCd=22&trCtgrNo=895019\n",
      "25 [오늘도착][Z폴드4 512G 자급제 1,568,580원][다운중복쿠폰] 갤럭시 Z폴드4 512G SM-F 1,960,720 https://www.11st.co.kr/products/4923332664?inpu=&trTypeCd=22&trCtgrNo=895019\n",
      "26 [로지텍코리아] POP MOUSE 무소음 무선 블루투스 마우스 19,900 https://www.11st.co.kr/products/3973842484?inpu=&trTypeCd=22&trCtgrNo=895019\n",
      "27 로지텍코리아 정품 무선마우스 MX MASTER 3[유니파잉+블루투스/윈&맥OS호환/멀티페어링 84,900 https://www.11st.co.kr/products/2553289008?inpu=&trTypeCd=22&trCtgrNo=895019\n",
      "28 쿠쿠 6인용 IH전기압력밥솥 CRP-DHP0610FD 220,800 https://www.11st.co.kr/products/2603780211?inpu=&trTypeCd=22&trCtgrNo=895019\n",
      "29 [LG본사설치] 정수기렌탈 상품권 30만 최대혜택전 18,900 https://www.11st.co.kr/products/2164703850?inpu=&trTypeCd=22&trCtgrNo=895019\n",
      "30 브리타 막스트라 플러스 필터 6개 유럽형 31,800 https://www.11st.co.kr/products/5181367750?inpu=&trTypeCd=22&trCtgrNo=895019\n",
      "31 [닌텐도(NINTENDO)][닌텐도 스위치 주변기기]닌텐도 스위치 조이콘 L/R (정품) 70,030 https://www.11st.co.kr/products/2701319135?inpu=&trTypeCd=22&trCtgrNo=895019\n",
      "32 오랄비 브라운 전동칫솔모 호환 리필 EB25 플로스액션 4,900 https://www.11st.co.kr/products/2872053036?inpu=&trTypeCd=22&trCtgrNo=895019\n",
      "33 메디큐브 에이지알 ATS 에어샷 김희선 마사지기 모공축소 스타몰 222,000 https://www.11st.co.kr/products/5017854047?inpu=&trTypeCd=22&trCtgrNo=895019\n",
      "34 [본사] 다이슨 슈퍼소닉 헤어 드라이어 (니켈/코퍼) 474,050 https://www.11st.co.kr/products/4664217348?inpu=&trTypeCd=22&trCtgrNo=895019\n",
      "35 갤럭시 Z플립 4 3 2 1 카드 수납 링 케이스 포켓 핑거 지갑형 다이어리 가죽 커버 힌지 10,500 https://www.11st.co.kr/products/4826683229?inpu=&trTypeCd=22&trCtgrNo=895019\n",
      "36 삼성전자 DDR4 8G PC4-25600 (정품)-MK 25,000 https://www.11st.co.kr/products/4724191632?inpu=&trTypeCd=22&trCtgrNo=895019\n",
      "37 [A33 자급제 379,550원ㅣ즉시할인+다운로드쿠폰] 갤럭시 A33 128GB 5G/LTE 호환 SM-A3 474,430 https://www.11st.co.kr/products/4693989630?inpu=&trTypeCd=22&trCtgrNo=895019\n",
      "38 [최종 가 10만]아이닉 3세대 올스텐 에어프라이어 7L iSA7 139,000 https://www.11st.co.kr/products/3824409940?inpu=&trTypeCd=22&trCtgrNo=895019\n",
      "39 삼성 갤럭시 S22 5G 256GB SM-S901N 자급제(정품)_SUN 833,400 https://www.11st.co.kr/products/5117785095?inpu=&trTypeCd=22&trCtgrNo=895019\n",
      "40 [최종65만]삼성전자 갤럭시북2 NT550XEZ-A58A 인텔12세대 과제용 사무용 799,000 https://www.11st.co.kr/products/4543218802?inpu=&trTypeCd=22&trCtgrNo=895019\n"
     ]
    }
   ],
   "source": [
    "bestlists=soup.select('div.viewtype')\n",
    "bestitmes_1=bestlists[1]\n",
    "bestitmes_2=bestlists[2]\n",
    "products_1=bestitmes_1.select('ul>li')\n",
    "products_2=bestitmes_2.select('ul>li')\n",
    "\n",
    "excel_file=openpyxl.Workbook()\n",
    "excel_sheet=excel_file.active\n",
    "excel_sheet.append(['순위','상품명','판매가격','상품상세링크'])\n",
    "\n",
    "excel_sheet.column_dimensions['B'].width=80\n",
    "excel_sheet.column_dimensions['D'].width=80\n",
    "\n",
    "\n",
    "for index , product in enumerate(products_1):\n",
    "    href_info=product.select_one(\"div.box_pd>a\")\n",
    "    title=product.select_one(\"div.pname>p\")\n",
    "    price=product.select_one(\"div.price_info>span.price_detail>strong\")\n",
    "    print(index+1,title.get_text().strip(),price.get_text(),href_info['href'])\n",
    "    excel_sheet.append([index+1,title.get_text().strip(),price.get_text(),href_info['href']])\n",
    "    excel_sheet.cell(row=index+2,column=4).hyperlink=href_info['href']\n",
    "    #엑셀파일에서 한 번 누르면 바로 링크 들어가질 수 있도록 하는 코드\n",
    "    \n",
    "    \n",
    "for index,product in enumerate(products_2):\n",
    "    href_info=product.select_one(\"div.box_pd>a\")\n",
    "    title=product.select_one(\"div.pname>p\")\n",
    "    price=product.select_one(\"div.price_info>span.price_detail>strong\")\n",
    "    print(index+29,title.get_text().strip(),price.get_text(),href_info['href'])\n",
    "    excel_sheet.append([index+29,title.get_text().strip(),price.get_text(),href_info['href']])\n",
    "    excel_sheet.cell(row=index+2,column=4).hyperlink=href_info['href']\n",
    "    \n",
    "\n",
    "excel_file.save(\"BESTPRODUCT_BY_11ST.xlsx\")\n",
    "excel_file.close()\n",
    "    "
   ]
  },
  {
   "cell_type": "code",
   "execution_count": null,
   "id": "ca216f9f",
   "metadata": {},
   "outputs": [],
   "source": []
  },
  {
   "cell_type": "code",
   "execution_count": null,
   "id": "5962e6d8",
   "metadata": {},
   "outputs": [],
   "source": []
  },
  {
   "cell_type": "code",
   "execution_count": null,
   "id": "dce3c53c",
   "metadata": {},
   "outputs": [],
   "source": []
  },
  {
   "cell_type": "code",
   "execution_count": null,
   "id": "41e418bd",
   "metadata": {},
   "outputs": [],
   "source": []
  },
  {
   "cell_type": "code",
   "execution_count": null,
   "id": "e54d6036",
   "metadata": {},
   "outputs": [],
   "source": []
  }
 ],
 "metadata": {
  "kernelspec": {
   "display_name": "Python 3 (ipykernel)",
   "language": "python",
   "name": "python3"
  },
  "language_info": {
   "codemirror_mode": {
    "name": "ipython",
    "version": 3
   },
   "file_extension": ".py",
   "mimetype": "text/x-python",
   "name": "python",
   "nbconvert_exporter": "python",
   "pygments_lexer": "ipython3",
   "version": "3.9.13"
  }
 },
 "nbformat": 4,
 "nbformat_minor": 5
}
