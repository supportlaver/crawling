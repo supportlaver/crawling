{
 "cells": [
  {
   "cell_type": "code",
   "execution_count": 7,
   "id": "639c16af",
   "metadata": {},
   "outputs": [
    {
     "name": "stdout",
     "output_type": "stream",
     "text": [
      "<OpenAPI_ServiceResponse>\n",
      "\t<cmmMsgHeader>\n",
      "\t\t<errMsg>SERVICE ERROR</errMsg>\n",
      "\t\t<returnAuthMsg>SERVICE_KEY_IS_NOT_REGISTERED_ERROR</returnAuthMsg>\n",
      "\t\t<returnReasonCode>30</returnReasonCode>\n",
      "\t</cmmMsgHeader>\n",
      "</OpenAPI_ServiceResponse>\n"
     ]
    }
   ],
   "source": [
    "import requests\n",
    "\n",
    "url = 'http://apis.data.go.kr/1480523/MetalMeasuringResultService/MetalService'\n",
    "params ={'serviceKey' : 'WixyvaAouGF2VSYNmPGaUW6wFi9k7Kn7lRYoNdA6o1KOuL9F1zFYegxCSM2VmYKart2%2FjIzoLAeaH%2BXijbqM7g%3D%3D', 'pageNo' : '1', 'numOfRows' : '10', 'resultType' : 'XML', 'date' : '20171208', 'stationcode' : '1', 'itemcode' : '90303', 'timecode' : 'RH02' }\n",
    "import requests\n",
    "\n",
    "service_key='WixyvaAouGF2VSYNmPGaUW6wFi9k7Kn7lRYoNdA6o1KOuL9F1zFYegxCSM2VmYKart2%2FjIzoLAeaH%2BXijbqM7g%3D%3D'\n",
    "params='&returnType=xml&numOfRows=10&pageNo=1&year=2020&itemCode=PM10'\n",
    "open_api='http://apis.data.go.kr/B552584/UlfptcaAlarmInqireSvc/getUlfptcaAlarmInfo?serviceKey='+service_key+params\n",
    "\n",
    "res=requests.get(open_api)\n",
    "print(res.text)\n",
    "\n",
    "response = requests.get(url, params=params)\n",
    "print(response.text)"
   ]
  },
  {
   "cell_type": "code",
   "execution_count": 29,
   "id": "087da510",
   "metadata": {},
   "outputs": [
    {
     "name": "stdout",
     "output_type": "stream",
     "text": [
      "날짜 :  20171208000000 측정소 코드 :  1 측정항목 코드 :  90303 측정데이터 시간 구분 :  RH02 측정 수치 :  24.125\n",
      "날짜 :  20171208020000 측정소 코드 :  1 측정항목 코드 :  90303 측정데이터 시간 구분 :  RH02 측정 수치 :  26.973\n",
      "날짜 :  20171208040000 측정소 코드 :  1 측정항목 코드 :  90303 측정데이터 시간 구분 :  RH02 측정 수치 :  25.986\n",
      "날짜 :  20171208060000 측정소 코드 :  1 측정항목 코드 :  90303 측정데이터 시간 구분 :  RH02 측정 수치 :  23.7435\n",
      "날짜 :  20171208080000 측정소 코드 :  1 측정항목 코드 :  90303 측정데이터 시간 구분 :  RH02 측정 수치 :  22.9215\n",
      "날짜 :  20171208100000 측정소 코드 :  1 측정항목 코드 :  90303 측정데이터 시간 구분 :  RH02 측정 수치 :  21.729\n",
      "날짜 :  20171208120000 측정소 코드 :  1 측정항목 코드 :  90303 측정데이터 시간 구분 :  RH02 측정 수치 :  17.606\n",
      "날짜 :  20171208140000 측정소 코드 :  1 측정항목 코드 :  90303 측정데이터 시간 구분 :  RH02 측정 수치 :  12.102\n",
      "날짜 :  20171208160000 측정소 코드 :  1 측정항목 코드 :  90303 측정데이터 시간 구분 :  RH02 측정 수치 :  10.046\n",
      "날짜 :  20171208180000 측정소 코드 :  1 측정항목 코드 :  90303 측정데이터 시간 구분 :  RH02 측정 수치 :  8.5985\n"
     ]
    }
   ],
   "source": [
    "import requests\n",
    "import openpyxl\n",
    "from bs4 import BeautifulSoup\n",
    "\n",
    "\n",
    "\n",
    "excel_file=openpyxl.Workbook()\n",
    "excel_sheet=excel_file.active\n",
    "excel_sheet.append([\"날짜\",\"측정소 코드\",\"측정항목 코드\",\"측정데이터 시간 구분\",\"측정 수치\"])\n",
    "\n",
    "service_key='WixyvaAouGF2VSYNmPGaUW6wFi9k7Kn7lRYoNdA6o1KOuL9F1zFYegxCSM2VmYKart2%2FjIzoLAeaH%2BXijbqM7g%3D%3D'\n",
    "params='&pageNo=1&numOfRows=10&resultType=xml&date=20171208&stationcode=1&itemcode=90303&timecode=RH02'\n",
    "open_api='http://apis.data.go.kr/1480523/MetalMeasuringResultService/MetalService?serviceKey='+service_key+params\n",
    "\n",
    "res=requests.get(open_api)\n",
    "soup=BeautifulSoup(res.content,'html.parser')\n",
    "data=soup.find_all('item')\n",
    "\n",
    "for item in data:\n",
    "    sdate=item.find('sdate')\n",
    "    stationcode=item.find('stationcode')\n",
    "    itemcode=item.find('itemcode')\n",
    "    timecode=item.find('timecode')\n",
    "    value=item.find('value')\n",
    "    print(\"날짜 : \" , sdate.get_text(), \"측정소 코드 : \", stationcode.get_text() , \"측정항목 코드 : \",itemcode.get_text()\n",
    "         , \"측정데이터 시간 구분 : \", timecode.get_text() , \"측정 수치 : \", value.get_text())\n",
    "    excel_sheet.append([sdate.get_text(),stationcode.get_text(),itemcode.get_text(),timecode.get_text(),value.get_text()])\n",
    "    \n",
    "excel_file.save(\"USE_OPEN_API.xlsx\")\n",
    "excel_file.close()"
   ]
  },
  {
   "cell_type": "code",
   "execution_count": null,
   "id": "8bbe1f0d",
   "metadata": {},
   "outputs": [],
   "source": []
  }
 ],
 "metadata": {
  "kernelspec": {
   "display_name": "Python 3 (ipykernel)",
   "language": "python",
   "name": "python3"
  },
  "language_info": {
   "codemirror_mode": {
    "name": "ipython",
    "version": 3
   },
   "file_extension": ".py",
   "mimetype": "text/x-python",
   "name": "python",
   "nbconvert_exporter": "python",
   "pygments_lexer": "ipython3",
   "version": "3.9.13"
  }
 },
 "nbformat": 4,
 "nbformat_minor": 5
}
